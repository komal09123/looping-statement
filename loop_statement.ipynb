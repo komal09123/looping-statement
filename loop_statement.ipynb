{
 "cells": [
  {
   "cell_type": "markdown",
   "id": "69843e90-850c-47b5-a7e6-38c85ba99b94",
   "metadata": {},
   "source": [
    "# loop statement\n",
    "loop is nothing but your code excuted same code again and again."
   ]
  },
  {
   "cell_type": "raw",
   "id": "7121d1ba-b48e-4a65-ae85-02edcc5df1be",
   "metadata": {},
   "source": [
    "# for loop \n",
    "1.for loop is going to itreate object one by one.\n",
    "2. we can use only for comma separated value and charecter of data."
   ]
  },
  {
   "cell_type": "code",
   "execution_count": 1,
   "id": "98916bd8-467f-420d-8c24-13403ef5fba6",
   "metadata": {},
   "outputs": [
    {
     "name": "stdout",
     "output_type": "stream",
     "text": [
      "H\n",
      "E\n",
      "L\n",
      "L\n",
      "O\n"
     ]
    }
   ],
   "source": [
    "l = ['H','E','L','L','O']\n",
    "for char in l:\n",
    "    print(char)"
   ]
  },
  {
   "cell_type": "code",
   "execution_count": 2,
   "id": "dad030f7-ff33-4e7e-9c38-5c369bbc93b3",
   "metadata": {},
   "outputs": [
    {
     "name": "stdout",
     "output_type": "stream",
     "text": [
      "10\n",
      "20\n",
      "30\n",
      "40\n",
      "50\n"
     ]
    }
   ],
   "source": [
    "a = [10,20,30,40,50]\n",
    "for num in a:\n",
    "    print(num)"
   ]
  },
  {
   "cell_type": "code",
   "execution_count": 3,
   "id": "06cac177-ec1d-4ab1-b34c-0128ca8d90c7",
   "metadata": {},
   "outputs": [
    {
     "name": "stdout",
     "output_type": "stream",
     "text": [
      "11\n",
      "21\n",
      "31\n",
      "41\n",
      "51\n"
     ]
    }
   ],
   "source": [
    "for num in a:\n",
    "    print(num+1)"
   ]
  },
  {
   "cell_type": "code",
   "execution_count": 4,
   "id": "b3efa592-ffbe-468f-a4da-43ab4bcbb922",
   "metadata": {},
   "outputs": [],
   "source": [
    "b = [1,2,3,4]"
   ]
  },
  {
   "cell_type": "code",
   "execution_count": 5,
   "id": "cb9582e5-4e07-4199-ac6a-946ecbda49aa",
   "metadata": {},
   "outputs": [
    {
     "data": {
      "text/plain": [
       "4"
      ]
     },
     "execution_count": 5,
     "metadata": {},
     "output_type": "execute_result"
    }
   ],
   "source": [
    "len(b)"
   ]
  },
  {
   "cell_type": "code",
   "execution_count": 6,
   "id": "6946be31-5bd5-489c-bd33-00a8bb31d7aa",
   "metadata": {},
   "outputs": [
    {
     "name": "stdout",
     "output_type": "stream",
     "text": [
      "Hello\n",
      "Hello\n",
      "Hello\n",
      "Hello\n",
      "Hello\n"
     ]
    }
   ],
   "source": [
    "for num in l:\n",
    "    print('Hello')"
   ]
  },
  {
   "cell_type": "raw",
   "id": "3164272d-d67f-4abd-93a8-b4563f0bca96",
   "metadata": {},
   "source": [
    "# range of data set"
   ]
  },
  {
   "cell_type": "code",
   "execution_count": 7,
   "id": "ef6d3e4d-7939-417e-b849-00c79b6fbb7f",
   "metadata": {},
   "outputs": [
    {
     "name": "stdout",
     "output_type": "stream",
     "text": [
      "0\n",
      "1\n",
      "2\n",
      "3\n",
      "4\n"
     ]
    }
   ],
   "source": [
    "for i in range(5):\n",
    "    print(i)"
   ]
  },
  {
   "cell_type": "code",
   "execution_count": 8,
   "id": "a66cccb5-1463-42bb-8ca8-87e851e0d34a",
   "metadata": {},
   "outputs": [
    {
     "name": "stdout",
     "output_type": "stream",
     "text": [
      "1\n",
      "2\n",
      "3\n",
      "4\n",
      "5\n",
      "6\n",
      "7\n",
      "8\n",
      "9\n",
      "10\n"
     ]
    }
   ],
   "source": [
    "for i in range (1,11):\n",
    "    print (i)"
   ]
  },
  {
   "cell_type": "code",
   "execution_count": 9,
   "id": "a9ac2726-d6aa-4147-bc0b-2d2ea58d4752",
   "metadata": {},
   "outputs": [
    {
     "name": "stdout",
     "output_type": "stream",
     "text": [
      "2\n",
      "4\n",
      "6\n",
      "8\n",
      "10\n",
      "12\n",
      "14\n",
      "16\n",
      "18\n",
      "20\n"
     ]
    }
   ],
   "source": [
    "for i in range(2,21,2):\n",
    "    print (i)"
   ]
  },
  {
   "cell_type": "raw",
   "id": "4dc496f6-9dcf-4da9-b7d2-10e95c3a850b",
   "metadata": {},
   "source": [
    "# nested loop\n",
    "loop inside loop it means nested loop"
   ]
  },
  {
   "cell_type": "code",
   "execution_count": 10,
   "id": "3db9eb78-d683-410f-85b0-3d0aa687696f",
   "metadata": {},
   "outputs": [
    {
     "name": "stdout",
     "output_type": "stream",
     "text": [
      "1\n",
      "2\n",
      "3\n",
      "4\n",
      "[10, 20, 30]\n",
      "5\n",
      "6\n"
     ]
    }
   ],
   "source": [
    "l = [1,2,3,4,[10,20,30],5,6]\n",
    "for i in l:\n",
    "    print(i)"
   ]
  },
  {
   "cell_type": "raw",
   "id": "bee2463e-24ca-4481-9303-67b652f71937",
   "metadata": {},
   "source": [
    "# Check data types"
   ]
  },
  {
   "cell_type": "code",
   "execution_count": 11,
   "id": "86782629-f5e2-4a31-9048-b1dd33f0ae4e",
   "metadata": {},
   "outputs": [],
   "source": [
    "d = [10,15,3,4,'H',True]"
   ]
  },
  {
   "cell_type": "code",
   "execution_count": 12,
   "id": "6b0eb9c7-ef48-41da-885b-d001173057da",
   "metadata": {},
   "outputs": [
    {
     "name": "stdout",
     "output_type": "stream",
     "text": [
      "<class 'int'> 10\n",
      "<class 'int'> 15\n",
      "<class 'int'> 3\n",
      "<class 'int'> 4\n",
      "<class 'str'> H\n",
      "<class 'bool'> True\n"
     ]
    }
   ],
   "source": [
    "for i in d:\n",
    "    print(type(i), i)"
   ]
  },
  {
   "cell_type": "raw",
   "id": "d4b15275-abbd-4ea0-bced-f61410fc471b",
   "metadata": {},
   "source": [
    "# Filter out only int type data"
   ]
  },
  {
   "cell_type": "code",
   "execution_count": 13,
   "id": "99c96c55-74e3-4b20-8df2-d3e11d9eb3c1",
   "metadata": {},
   "outputs": [],
   "source": [
    "f = [10,15.3,4,'H',True]"
   ]
  },
  {
   "cell_type": "code",
   "execution_count": 14,
   "id": "b52efa79-2560-43ef-83a7-39c9b809ec19",
   "metadata": {},
   "outputs": [
    {
     "name": "stdout",
     "output_type": "stream",
     "text": [
      "10\n",
      "4\n"
     ]
    }
   ],
   "source": [
    "for i in f:\n",
    "    if type(i) == int:\n",
    "        print(i)"
   ]
  },
  {
   "cell_type": "code",
   "execution_count": 15,
   "id": "26503f90-0546-496f-8e9b-291cfa8a478b",
   "metadata": {},
   "outputs": [
    {
     "data": {
      "text/plain": [
       "int"
      ]
     },
     "execution_count": 15,
     "metadata": {},
     "output_type": "execute_result"
    }
   ],
   "source": [
    "type(10)"
   ]
  },
  {
   "cell_type": "code",
   "execution_count": 16,
   "id": "d2952552-de42-4f88-a084-be763c71ea49",
   "metadata": {},
   "outputs": [
    {
     "data": {
      "text/plain": [
       "float"
      ]
     },
     "execution_count": 16,
     "metadata": {},
     "output_type": "execute_result"
    }
   ],
   "source": [
    "type(15.3)"
   ]
  },
  {
   "cell_type": "code",
   "execution_count": 17,
   "id": "a10b104c-5d61-470e-bdf1-259e4ffe60c3",
   "metadata": {},
   "outputs": [
    {
     "name": "stdout",
     "output_type": "stream",
     "text": [
      "15.3\n"
     ]
    }
   ],
   "source": [
    "for i in f:\n",
    "    if type(i) == float:\n",
    "        print(i)"
   ]
  },
  {
   "cell_type": "raw",
   "id": "73b0a9f4-9b30-4786-9d3b-319df46fa04a",
   "metadata": {},
   "source": [
    "# Int and float"
   ]
  },
  {
   "cell_type": "code",
   "execution_count": 18,
   "id": "cf54b2d0-99d2-4fb5-9245-7cd7d647cf54",
   "metadata": {},
   "outputs": [
    {
     "name": "stdout",
     "output_type": "stream",
     "text": [
      "10\n",
      "15.3\n",
      "4\n"
     ]
    }
   ],
   "source": [
    "for i in f:\n",
    "    if type(i) == int:\n",
    "        print(i)\n",
    "    elif type(i) == float:\n",
    "        print(i)"
   ]
  },
  {
   "cell_type": "code",
   "execution_count": 19,
   "id": "5c8c2fb3-71e2-44c8-910d-f6384b143824",
   "metadata": {},
   "outputs": [],
   "source": [
    "mix_list = [[1,2,3,4], (10,20,30), {12,13,14}]"
   ]
  },
  {
   "cell_type": "code",
   "execution_count": 20,
   "id": "aee1ad41-d9e4-4990-80a2-1c2b5017c5a2",
   "metadata": {},
   "outputs": [
    {
     "name": "stdout",
     "output_type": "stream",
     "text": [
      "[1, 2, 3, 4]\n",
      "(10, 20, 30)\n",
      "{12, 13, 14}\n"
     ]
    }
   ],
   "source": [
    "for i in mix_list:\n",
    "    print(i)"
   ]
  },
  {
   "cell_type": "code",
   "execution_count": 21,
   "id": "194a80b8-6ec9-4649-b831-b0d4572a159a",
   "metadata": {},
   "outputs": [
    {
     "name": "stdout",
     "output_type": "stream",
     "text": [
      "[1, 2, 3, 4] <class 'list'>\n",
      "(10, 20, 30) <class 'tuple'>\n",
      "{12, 13, 14} <class 'set'>\n"
     ]
    }
   ],
   "source": [
    "for i in mix_list:\n",
    "    print(i, type(i))"
   ]
  },
  {
   "cell_type": "code",
   "execution_count": 22,
   "id": "d981bb1d-3f53-41d4-a0c3-dcfeaa913bb3",
   "metadata": {},
   "outputs": [
    {
     "name": "stdout",
     "output_type": "stream",
     "text": [
      "(10, 20, 30)\n"
     ]
    }
   ],
   "source": [
    "for i in mix_list:\n",
    "    if type(i) == tuple:\n",
    "        print(i)"
   ]
  },
  {
   "cell_type": "code",
   "execution_count": 23,
   "id": "dba91c89-a289-4aff-99a0-11adff5357a1",
   "metadata": {},
   "outputs": [
    {
     "name": "stdout",
     "output_type": "stream",
     "text": [
      "[1, 2, 3, 4]\n"
     ]
    }
   ],
   "source": [
    "for i in mix_list:\n",
    "    if type(i) == list:\n",
    "        print(i)"
   ]
  },
  {
   "cell_type": "code",
   "execution_count": 24,
   "id": "da0dbe9a-c280-49ac-9f52-4228e4bc3e19",
   "metadata": {},
   "outputs": [
    {
     "data": {
      "text/plain": [
       "[[1, 2, 3, 4], (10, 20, 30), {12, 13, 14}]"
      ]
     },
     "execution_count": 24,
     "metadata": {},
     "output_type": "execute_result"
    }
   ],
   "source": [
    "mix_list"
   ]
  },
  {
   "cell_type": "code",
   "execution_count": 25,
   "id": "e38e5c73-3e0a-4acf-bbb4-1dee78b52b67",
   "metadata": {},
   "outputs": [
    {
     "name": "stdout",
     "output_type": "stream",
     "text": [
      "1\n",
      "2\n",
      "3\n",
      "4\n"
     ]
    }
   ],
   "source": [
    "for i in mix_list:\n",
    "    if type(i) == list:\n",
    "        for num in i:\n",
    "            print(num)"
   ]
  },
  {
   "cell_type": "raw",
   "id": "e3be36f8-4380-4dbd-9ade-bd4a39d8ab0f",
   "metadata": {},
   "source": [
    "# while loop\n",
    "while loop is check condition infinit time but we have to make over condition false after some time that time over while loop will be stop"
   ]
  },
  {
   "cell_type": "code",
   "execution_count": 26,
   "id": "8f3318a1-d3d6-4a80-8cbf-b730b7f60cb6",
   "metadata": {},
   "outputs": [
    {
     "name": "stdout",
     "output_type": "stream",
     "text": [
      "student 15\n",
      "student 16\n",
      "student 17\n"
     ]
    }
   ],
   "source": [
    "age = 15\n",
    "while age<18:\n",
    "    print('student',age)\n",
    "    age = age+1"
   ]
  },
  {
   "cell_type": "code",
   "execution_count": 27,
   "id": "8cadcda5-178a-4584-a465-c148b150acc3",
   "metadata": {},
   "outputs": [
    {
     "name": "stdout",
     "output_type": "stream",
     "text": [
      "40\n",
      "39\n",
      "38\n",
      "37\n",
      "36\n"
     ]
    }
   ],
   "source": [
    "marks = 40\n",
    "while marks > 35:\n",
    "    print(marks)\n",
    "    marks = marks-1"
   ]
  },
  {
   "cell_type": "code",
   "execution_count": null,
   "id": "45983dce-218b-42ba-ba50-214fba9eee5d",
   "metadata": {},
   "outputs": [
    {
     "name": "stdout",
     "output_type": "stream",
     "text": [
      "Hello\n"
     ]
    }
   ],
   "source": [
    "button = 'Hello'\n",
    "while button != 'stop':\n",
    "    print(button)\n",
    "    button = input ('Enter \"stop\" to exit loop')"
   ]
  },
  {
   "cell_type": "raw",
   "id": "96e585e3-1bc9-44b7-b3c2-a4c2e9d6d571",
   "metadata": {},
   "source": [
    "# sum of 10 number"
   ]
  },
  {
   "cell_type": "code",
   "execution_count": 39,
   "id": "a92bdb3b-50bd-403a-8fd5-2c44baac0d62",
   "metadata": {},
   "outputs": [],
   "source": [
    "num = 10\n",
    "sum = 0\n",
    "while num > 0:\n",
    "    sum = sum + num\n",
    "    num = num-1"
   ]
  },
  {
   "cell_type": "code",
   "execution_count": 40,
   "id": "12d80a86-f135-4a3d-be72-5d64a0880c80",
   "metadata": {},
   "outputs": [
    {
     "data": {
      "text/plain": [
       "55"
      ]
     },
     "execution_count": 40,
     "metadata": {},
     "output_type": "execute_result"
    }
   ],
   "source": [
    "sum"
   ]
  },
  {
   "cell_type": "raw",
   "id": "11b76b15-080c-434b-bd20-f49cfa52b53b",
   "metadata": {},
   "source": [
    "# sum of 10 number using for loop "
   ]
  },
  {
   "cell_type": "code",
   "execution_count": 41,
   "id": "68da4888-8c65-427f-b7a4-25a89e236e47",
   "metadata": {},
   "outputs": [],
   "source": [
    "sum = 0\n",
    "for i in range(1,11):\n",
    "    sum = sum + i"
   ]
  },
  {
   "cell_type": "code",
   "execution_count": 42,
   "id": "457ea28f-71ee-4fd5-a17a-aebdcae5d1f0",
   "metadata": {},
   "outputs": [
    {
     "data": {
      "text/plain": [
       "55"
      ]
     },
     "execution_count": 42,
     "metadata": {},
     "output_type": "execute_result"
    }
   ],
   "source": [
    "sum"
   ]
  },
  {
   "cell_type": "raw",
   "id": "d0f825cb-3513-4ab0-a824-e1544f2e3c35",
   "metadata": {},
   "source": [
    "# sum of n natural number"
   ]
  },
  {
   "cell_type": "code",
   "execution_count": 44,
   "id": "24304fd9-04ae-41c5-80bb-d45b33e11841",
   "metadata": {},
   "outputs": [
    {
     "data": {
      "text/plain": [
       "240"
      ]
     },
     "execution_count": 44,
     "metadata": {},
     "output_type": "execute_result"
    }
   ],
   "source": [
    "n = 15\n",
    "n*(n+1)"
   ]
  },
  {
   "cell_type": "markdown",
   "id": "b8a833b9-f10d-44d4-b366-3483f7b884d5",
   "metadata": {},
   "source": [
    "# break,continue,pass staement"
   ]
  },
  {
   "cell_type": "raw",
   "id": "b8a1d139-66b6-468a-af57-60c1fa2fe6fc",
   "metadata": {},
   "source": [
    "break\n",
    "1.break statement use for break over code and stop the code for working"
   ]
  },
  {
   "cell_type": "code",
   "execution_count": 50,
   "id": "2669c640-c91f-4f6f-848f-fbb3ae4c9d89",
   "metadata": {},
   "outputs": [
    {
     "name": "stdout",
     "output_type": "stream",
     "text": [
      "1\n",
      "2\n"
     ]
    }
   ],
   "source": [
    "for i in range(1,5):\n",
    "    if i == 3:\n",
    "        break\n",
    "    print(i)"
   ]
  },
  {
   "cell_type": "code",
   "execution_count": 53,
   "id": "fc2f7b7a-851c-4969-ba04-3b73e4fd40af",
   "metadata": {},
   "outputs": [
    {
     "name": "stdout",
     "output_type": "stream",
     "text": [
      "D\n",
      "a\n",
      "t\n",
      "a\n",
      " \n",
      "S\n"
     ]
    }
   ],
   "source": [
    "for i in 'Data Science':\n",
    "    if i == 'c':\n",
    "        break\n",
    "    print(i)"
   ]
  },
  {
   "cell_type": "raw",
   "id": "cca8fc4b-42c8-4014-a689-d9654ad21482",
   "metadata": {},
   "source": [
    "continue\n",
    "continue statement using for your conditon is true.but you can your code continue excuted."
   ]
  },
  {
   "cell_type": "code",
   "execution_count": 55,
   "id": "bb399176-fb39-405e-85f7-8d7b4d3c07aa",
   "metadata": {},
   "outputs": [
    {
     "name": "stdout",
     "output_type": "stream",
     "text": [
      "1\n",
      "2\n",
      "4\n"
     ]
    }
   ],
   "source": [
    "for i in range (1,5):\n",
    "    if i == 3:\n",
    "        continue\n",
    "    print(i)"
   ]
  },
  {
   "cell_type": "code",
   "execution_count": 56,
   "id": "15705663-2ceb-47cc-b4e7-81475c777f3e",
   "metadata": {},
   "outputs": [
    {
     "name": "stdout",
     "output_type": "stream",
     "text": [
      "D\n",
      "t\n",
      " \n",
      "s\n",
      "c\n",
      "i\n",
      "e\n",
      "n\n",
      "c\n",
      "e\n"
     ]
    }
   ],
   "source": [
    "for i in 'Data science':\n",
    "    if i == 'a':\n",
    "        continue\n",
    "    print(i)"
   ]
  },
  {
   "cell_type": "raw",
   "id": "b846ca79-8f87-483d-b1a2-47932e76b88d",
   "metadata": {},
   "source": [
    "pass\n",
    "pass is meing less statement this using for fill the block of code"
   ]
  },
  {
   "cell_type": "code",
   "execution_count": 57,
   "id": "1bd9df37-0b90-4bb7-915c-373b0e5e3b52",
   "metadata": {},
   "outputs": [],
   "source": [
    "for i in range (1,5):\n",
    "    if i == 3:\n",
    "        pass"
   ]
  },
  {
   "cell_type": "code",
   "execution_count": null,
   "id": "88cd29b7-6472-42f2-b515-b57f3c587b45",
   "metadata": {},
   "outputs": [],
   "source": []
  }
 ],
 "metadata": {
  "kernelspec": {
   "display_name": "Python 3 (ipykernel)",
   "language": "python",
   "name": "python3"
  },
  "language_info": {
   "codemirror_mode": {
    "name": "ipython",
    "version": 3
   },
   "file_extension": ".py",
   "mimetype": "text/x-python",
   "name": "python",
   "nbconvert_exporter": "python",
   "pygments_lexer": "ipython3",
   "version": "3.12.7"
  }
 },
 "nbformat": 4,
 "nbformat_minor": 5
}
